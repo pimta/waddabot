{
 "cells": [
  {
   "cell_type": "code",
   "execution_count": 1,
   "metadata": {},
   "outputs": [],
   "source": [
    "import discord\n",
    "from discord.ext import commands\n",
    "import random\n",
    "import asyncio\n",
    "from pymongo import MongoClient"
   ]
  },
  {
   "cell_type": "code",
   "execution_count": 47,
   "metadata": {},
   "outputs": [],
   "source": [
    "import datetime\n",
    "def get_time_now() :\n",
    "    date = datetime.datetime.now()\n",
    "    date = date.isoformat().split('T')\n",
    "    date , time = date[0], date[1].split('.')[0]\n",
    "    return date, time"
   ]
  },
  {
   "cell_type": "code",
   "execution_count": 2,
   "metadata": {},
   "outputs": [],
   "source": [
    "CLIENT_ID = \"375302183245185034\"\n",
    "CLIENT_SECRET =\"q6VV9pfmaApEH43Fn1LI6X1s7i7Vmo7w\"\n",
    "CLIENT_TOKEN = \"Mzc1MzAyMTgzMjQ1MTg1MDM0.DOGcMQ.kk-Z4tH85kJ5bnFYV6wjcIsEOio\""
   ]
  },
  {
   "cell_type": "code",
   "execution_count": 3,
   "metadata": {},
   "outputs": [],
   "source": [
    "db_client = MongoClient()\n",
    "db = db_client.test # db named test"
   ]
  },
  {
   "cell_type": "code",
   "execution_count": 4,
   "metadata": {},
   "outputs": [
    {
     "name": "stdout",
     "output_type": "stream",
     "text": [
      "Connected to database\n"
     ]
    }
   ],
   "source": [
    "from pymongo.errors import ConnectionFailure\n",
    "try:\n",
    "   # The ismaster command is cheap and does not require auth.\n",
    "    db_client.admin.command('ismaster')\n",
    "    print(\"Connected to database\")\n",
    "except ConnectionFailure:\n",
    "    print(\"Server not available\")\n"
   ]
  },
  {
   "cell_type": "code",
   "execution_count": 5,
   "metadata": {
    "scrolled": true
   },
   "outputs": [
    {
     "name": "stderr",
     "output_type": "stream",
     "text": [
      "c:\\users\\test\\appdata\\local\\programs\\python\\python36-32\\lib\\site-packages\\ipykernel_launcher.py:1: DeprecationWarning: collection_names is deprecated. Use list_collection_names instead.\n",
      "  \"\"\"Entry point for launching an IPython kernel.\n"
     ]
    },
    {
     "data": {
      "text/plain": [
       "['playlist']"
      ]
     },
     "execution_count": 5,
     "metadata": {},
     "output_type": "execute_result"
    }
   ],
   "source": [
    "db.collection_names()"
   ]
  },
  {
   "cell_type": "code",
   "execution_count": 6,
   "metadata": {},
   "outputs": [],
   "source": [
    "prefix= \"??\"\n",
    "bot = commands.Bot(command_prefix=prefix)"
   ]
  },
  {
   "cell_type": "code",
   "execution_count": 7,
   "metadata": {},
   "outputs": [],
   "source": [
    "def get_channel_id(channel_name) :\n",
    "    for channel in bot.get_all_channels() :\n",
    "        if channel.name == channel_name :\n",
    "            return channel.id"
   ]
  },
  {
   "cell_type": "code",
   "execution_count": 8,
   "metadata": {},
   "outputs": [],
   "source": [
    "@bot.event\n",
    "async def on_ready():\n",
    "    print('Logged in as')\n",
    "    print(bot.user.name)\n",
    "    print(bot.user.id)\n",
    "    print('------')\n",
    "\n"
   ]
  },
  {
   "cell_type": "code",
   "execution_count": 54,
   "metadata": {},
   "outputs": [
    {
     "name": "stderr",
     "output_type": "stream",
     "text": [
      "Ignoring exception in on_voice_state_update\n",
      "Traceback (most recent call last):\n",
      "  File \"c:\\users\\test\\appdata\\local\\programs\\python\\python36-32\\lib\\site-packages\\discord\\client.py\", line 307, in _run_event\n",
      "    yield from getattr(self, event)(*args, **kwargs)\n",
      "  File \"<ipython-input-54-958945a0f283>\", line 4, in on_voice_state_update\n",
      "    cont = (before.name + ' connected to '+after.voice.voice_channel.name+ '.')\n",
      "AttributeError: 'NoneType' object has no attribute 'name'\n"
     ]
    }
   ],
   "source": [
    "@bot.event\n",
    "async def on_voice_state_update(before,after) :\n",
    "    if (before.voice.voice_channel is None and \\\n",
    "    after.voice.voice_channel is not None )or \\\n",
    "    (before.voice.voice_channel != after.voice.voice_channel):\n",
    "        cont = (before.name + ' connected to '+after.voice.voice_channel.name+ '.')\n",
    "    if before.voice.voice_channel is not None and\\\n",
    "    after.voice.voice_channel is None :\n",
    "        cont = (after.name +' disconnected from '+ before.voice.voice_channel.name+'.')\n",
    "    date, time = get_time_now()\n",
    "    cont = '`'+date + '\\t'+time+'\\t'+cont+'`'\n",
    "    await bot.send_message(destination=bot.get_channel(get_channel_id('lug')), content=cont)\n",
    "    "
   ]
  },
  {
   "cell_type": "code",
   "execution_count": 10,
   "metadata": {},
   "outputs": [],
   "source": [
    "@bot.command()\n",
    "async def add(left : int, right : int):\n",
    "    \"\"\"Adds two numbers together.\"\"\"\n",
    "    await bot.say(left + right)\n"
   ]
  },
  {
   "cell_type": "code",
   "execution_count": 11,
   "metadata": {},
   "outputs": [],
   "source": [
    "@bot.command()\n",
    "async def roll(dice : str):\n",
    "    \"\"\"Rolls a dice in NdN format.\"\"\"\n",
    "    try:\n",
    "        rolls, limit = map(int, dice.split('d'))\n",
    "    except Exception:\n",
    "        await bot.say('Format has to be in NdN!')\n",
    "        return\n",
    "\n",
    "    result = ', '.join(str(random.randint(1, limit)) for r in range(rolls))\n",
    "    await bot.say(result)\n",
    "\n"
   ]
  },
  {
   "cell_type": "code",
   "execution_count": 12,
   "metadata": {},
   "outputs": [],
   "source": [
    "@bot.command(description='For when you wanna settle the score some other way')\n",
    "async def choose(*choices : str):\n",
    "    \"\"\"Chooses between multiple choices.\"\"\"\n",
    "    await bot.say(random.choice(choices))\n",
    "\n"
   ]
  },
  {
   "cell_type": "code",
   "execution_count": 13,
   "metadata": {},
   "outputs": [],
   "source": [
    "@bot.command()\n",
    "async def repeat(times : int, content='repeating...'):\n",
    "    \"\"\"Repeats a message multiple times.\"\"\"\n",
    "    for i in range(times):\n",
    "        await bot.say(content)\n",
    "\n"
   ]
  },
  {
   "cell_type": "code",
   "execution_count": 14,
   "metadata": {},
   "outputs": [],
   "source": [
    "@bot.command()\n",
    "async def joined(member : discord.Member):\n",
    "    \"\"\"Says when a member joined.\"\"\"\n",
    "    await bot.say('{0.name} joined in {0.joined_at}'.format(member))\n",
    "\n"
   ]
  },
  {
   "cell_type": "code",
   "execution_count": 15,
   "metadata": {},
   "outputs": [],
   "source": [
    "@bot.group(pass_context=True)\n",
    "async def cool(ctx):\n",
    "    \"\"\"Says if a user is cool.\n",
    "    In reality this just checks if a subcommand is being invoked.\n",
    "    \"\"\"\n",
    "    if ctx.invoked_subcommand is None:\n",
    "        await bot.say('No, {0.subcommand_passed} is not cool'.format(ctx))\n",
    "\n"
   ]
  },
  {
   "cell_type": "code",
   "execution_count": 16,
   "metadata": {},
   "outputs": [],
   "source": [
    "@cool.command(name='bot')\n",
    "async def _bot():\n",
    "    \"\"\"Is the bot cool?\"\"\"\n",
    "    await bot.say('Yes, the bot is cool.')"
   ]
  },
  {
   "cell_type": "code",
   "execution_count": 17,
   "metadata": {},
   "outputs": [],
   "source": [
    "@bot.command(pass_context=True, no_pm=True)\n",
    "async def members(ctx):\n",
    "    \"\"\"show a list of all members\"\"\"\n",
    "    server = ctx.message.server\n",
    "    members = server.members\n",
    "    out = ''\n",
    "    for m in members :\n",
    "        print(m.name)\n",
    "        out += (m.name + \"\\n\")\n",
    "    await bot.say(out)"
   ]
  },
  {
   "cell_type": "code",
   "execution_count": 18,
   "metadata": {},
   "outputs": [
    {
     "name": "stderr",
     "output_type": "stream",
     "text": [
      "c:\\users\\test\\appdata\\local\\programs\\python\\python36-32\\lib\\site-packages\\ipykernel_launcher.py:2: DeprecationWarning: count is deprecated. Use Collection.count_documents instead.\n",
      "  \n"
     ]
    },
    {
     "data": {
      "text/plain": [
       "0"
      ]
     },
     "execution_count": 18,
     "metadata": {},
     "output_type": "execute_result"
    }
   ],
   "source": [
    "x =  db.playlist.find({'_id': '123'})\n",
    "x.count()"
   ]
  },
  {
   "cell_type": "code",
   "execution_count": 19,
   "metadata": {},
   "outputs": [],
   "source": [
    "test_playlist = {'_id' : 'wad' ,  \n",
    "                 'queue':['when you say nothing at all']}"
   ]
  },
  {
   "cell_type": "code",
   "execution_count": 20,
   "metadata": {},
   "outputs": [
    {
     "name": "stdout",
     "output_type": "stream",
     "text": [
      "waddafug\n"
     ]
    }
   ],
   "source": [
    "for x in db.playlist.find():\n",
    "    print(x['_id'])"
   ]
  },
  {
   "cell_type": "markdown",
   "metadata": {},
   "source": [
    "music"
   ]
  },
  {
   "cell_type": "code",
   "execution_count": 21,
   "metadata": {},
   "outputs": [],
   "source": [
    "if not discord.opus.is_loaded():\n",
    "    print('no opus')"
   ]
  },
  {
   "cell_type": "code",
   "execution_count": 22,
   "metadata": {},
   "outputs": [],
   "source": [
    "class VoiceEntry:\n",
    "    def __init__(self, message, player):\n",
    "        self.requester = message.author\n",
    "        self.channel = message.channel\n",
    "        self.player = player\n",
    "\n",
    "    def __str__(self):\n",
    "        fmt = '*{0.title}* uploaded by {0.uploader} and requested by {1.display_name}'\n",
    "        duration = self.player.duration\n",
    "        if duration:\n",
    "            fmt = fmt + ' [length: {0[0]}m {0[1]}s]'.format(divmod(duration, 60))\n",
    "        return fmt.format(self.player, self.requester)\n",
    "    "
   ]
  },
  {
   "cell_type": "code",
   "execution_count": 23,
   "metadata": {},
   "outputs": [],
   "source": [
    "class VoiceState:\n",
    "    def __init__(self, bot):\n",
    "        self.current = None\n",
    "        self.voice = None\n",
    "        self.bot = bot\n",
    "        self.play_next_song = asyncio.Event()\n",
    "        self.songs = asyncio.Queue()\n",
    "        self.skip_votes = set() # a set of user_ids that voted\n",
    "        self.audio_player = self.bot.loop.create_task(self.audio_player_task())\n",
    "\n",
    "    def is_playing(self):\n",
    "        if self.voice is None or self.current is None:\n",
    "            return False\n",
    "\n",
    "        player = self.current.player\n",
    "        return not player.is_done()\n",
    "\n",
    "    @property\n",
    "    def player(self):\n",
    "        return self.current.player\n",
    "\n",
    "    def skip(self):\n",
    "        self.skip_votes.clear()\n",
    "        if self.is_playing():\n",
    "            self.player.stop()\n",
    "\n",
    "    def toggle_next(self):\n",
    "        self.bot.loop.call_soon_threadsafe(self.play_next_song.set)\n",
    "\n",
    "    async def audio_player_task(self):\n",
    "        while True:\n",
    "            self.play_next_song.clear()\n",
    "            self.current = await self.songs.get()\n",
    "            await self.bot.send_message(self.current.channel, 'Now playing ' + str(self.current))\n",
    "            self.current.player.start()\n",
    "            await self.play_next_song.wait()\n",
    "            "
   ]
  },
  {
   "cell_type": "code",
   "execution_count": 24,
   "metadata": {},
   "outputs": [],
   "source": [
    "class Music:\n",
    "    \"\"\"Voice related commands.\n",
    "    Works in multiple servers at once.\n",
    "    \"\"\"\n",
    "    def __init__(self, bot):\n",
    "        self.bot = bot\n",
    "        self.voice_states = {}\n",
    "\n",
    "    def get_voice_state(self, server):\n",
    "        state = self.voice_states.get(server.id)\n",
    "        if state is None:\n",
    "            state = VoiceState(self.bot)\n",
    "            self.voice_states[server.id] = state\n",
    "\n",
    "        return state\n",
    "\n",
    "    async def create_voice_client(self, channel):\n",
    "        voice = await self.bot.join_voice_channel(channel)\n",
    "        state = self.get_voice_state(channel.server)\n",
    "        state.voice = voice\n",
    "\n",
    "    def __unload(self):\n",
    "        for state in self.voice_states.values():\n",
    "            try:\n",
    "                state.audio_player.cancel()\n",
    "                if state.voice:\n",
    "                    self.bot.loop.create_task(state.voice.disconnect())\n",
    "            except:\n",
    "                pass\n",
    "\n",
    "    @commands.command(pass_context=True, no_pm=True)\n",
    "    async def join(self, ctx, channel : discord.Channel = None):\n",
    "        \"\"\"Joins a voice channel.\"\"\"\n",
    "        if channel is None :\n",
    "            channel = ctx.message.author.voice.voice_channel\n",
    "        try:\n",
    "            await self.create_voice_client(channel)\n",
    "        except discord.ClientException:\n",
    "            await self.bot.say('Already in a voice channel...')\n",
    "        except discord.InvalidArgument:\n",
    "            await self.bot.say('This is not a voice channel...')\n",
    "        else:\n",
    "            await self.bot.say('Ready to play audio in ' + channel.name)\n",
    "\n",
    "    @commands.command(pass_context=True, no_pm=True)\n",
    "    async def summon(self, ctx):\n",
    "        \"\"\"Summons the bot to join your voice channel.\"\"\"\n",
    "        summoned_channel = ctx.message.author.voice_channel\n",
    "        if summoned_channel is None:\n",
    "            await self.bot.say('You are not in a voice channel.')\n",
    "            return False\n",
    "\n",
    "        state = self.get_voice_state(ctx.message.server)\n",
    "        if state.voice is None:\n",
    "            state.voice = await self.bot.join_voice_channel(summoned_channel)\n",
    "        else:\n",
    "            await state.voice.move_to(summoned_channel)\n",
    "\n",
    "        return True\n",
    "\n",
    "    @commands.command(pass_context=True, no_pm=True)\n",
    "    async def play(self, ctx, *, song : str):\n",
    "        print('play command')\n",
    "        \"\"\"Plays a song.\n",
    "        If there is a song currently in the queue, then it is\n",
    "        queued until the next song is done playing.\n",
    "        This command automatically searches as well from YouTube.\n",
    "        The list of supported sites can be found here:\n",
    "        https://rg3.github.io/youtube-dl/supportedsites.html\n",
    "        \"\"\"\n",
    "        state = self.get_voice_state(ctx.message.server)\n",
    "        print('state = ', state)\n",
    "        opts = {\n",
    "            'default_search': 'auto',\n",
    "            'quiet': True,\n",
    "        }\n",
    "\n",
    "        if state.voice is None:\n",
    "            success = await ctx.invoke(self.summon)\n",
    "            if not success:\n",
    "                return\n",
    "\n",
    "        try:\n",
    "            player = await state.voice.create_ytdl_player(song,\n",
    "                                                          ytdl_options=opts, \n",
    "                                                          after=state.toggle_next)\n",
    "        except Exception as e:\n",
    "            fmt = 'An error occurred while processing this request: ```py\\n{}: {}\\n```'\n",
    "            await self.bot.send_message(ctx.message.channel, \n",
    "                                        fmt.format(type(e).__name__, e))\n",
    "        else:\n",
    "            player.volume = 0.05\n",
    "            entry = VoiceEntry(ctx.message, player)\n",
    "            await self.bot.say('Enqueued ' + str(entry))\n",
    "            await state.songs.put(entry)\n",
    "\n",
    "    @commands.command(pass_context=True, no_pm=True)\n",
    "    async def volume(self, ctx, *args):\n",
    "        \"\"\"Sets the volume of the currently playing song (%).\"\"\"\n",
    "\n",
    "        state = self.get_voice_state(ctx.message.server)\n",
    "        if state.is_playing():\n",
    "            player = state.player\n",
    "            \n",
    "            if len(args) == 0 :\n",
    "                await self.bot.say('Current volume : '+str(100*player.volume)+'%')\n",
    "            else :\n",
    "                try : \n",
    "                    value = int(args[0])\n",
    "                    player.volume = value / 100\n",
    "                    await self.bot.say('Set the volume to {:.0%}'.format(player.volume))\n",
    "                except ValueError:              \n",
    "                    await self.bot.say('invalid volume value')\n",
    "                    return\n",
    "                \n",
    "    @commands.command(pass_context=True, no_pm=True)\n",
    "    async def pause(self, ctx):\n",
    "        \"\"\"Pauses the currently played song.\"\"\"\n",
    "        state = self.get_voice_state(ctx.message.server)\n",
    "        if state.is_playing():\n",
    "            player = state.player\n",
    "            player.pause()\n",
    "\n",
    "    @commands.command(pass_context=True, no_pm=True)\n",
    "    async def resume(self, ctx):\n",
    "        \"\"\"Resumes the currently played song.\"\"\"\n",
    "        state = self.get_voice_state(ctx.message.server)\n",
    "        if state.is_playing():\n",
    "            player = state.player\n",
    "            player.resume()\n",
    "\n",
    "    @commands.command(pass_context=True, no_pm=True)\n",
    "    async def stop(self, ctx):\n",
    "        \"\"\"Stops playing audio and leaves the voice channel.\n",
    "        This also clears the queue.\n",
    "        \"\"\"\n",
    "        server = ctx.message.server\n",
    "        state = self.get_voice_state(server)\n",
    "\n",
    "        if state.is_playing():\n",
    "            player = state.player\n",
    "            player.stop()\n",
    "\n",
    "        try:\n",
    "            state.audio_player.cancel()\n",
    "            del self.voice_states[server.id]\n",
    "            await state.voice.disconnect()\n",
    "        except:\n",
    "            pass\n",
    "\n",
    "    @commands.command(pass_context=True, no_pm=True)\n",
    "    async def skip(self, ctx):\n",
    "        \"\"\"Vote to skip a song. The song requester can automatically skip.\n",
    "        3 skip votes are needed for the song to be skipped.\n",
    "        \"\"\"\n",
    "\n",
    "        state = self.get_voice_state(ctx.message.server)\n",
    "        if not state.is_playing():\n",
    "            await self.bot.say('Not playing any music right now...')\n",
    "            return\n",
    "\n",
    "        voter = ctx.message.author\n",
    "        if voter == state.current.requester:\n",
    "            await self.bot.say('Requester requested skipping song...')\n",
    "            state.skip()\n",
    "        elif voter.id not in state.skip_votes:\n",
    "            state.skip_votes.add(voter.id)\n",
    "            total_votes = len(state.skip_votes)\n",
    "            if total_votes >= 3:\n",
    "                await self.bot.say('Skip vote passed, skipping song...')\n",
    "                state.skip()\n",
    "            else:\n",
    "                await self.bot.say('Skip vote added, currently at [{}/3]'.format(total_votes))\n",
    "        else:\n",
    "            await self.bot.say('You have already voted to skip this song.')\n",
    "\n",
    "    @commands.command(pass_context=True, no_pm=True)\n",
    "    async def playing(self, ctx):\n",
    "        \"\"\"Shows info about the currently played song.\"\"\"\n",
    "\n",
    "        state = self.get_voice_state(ctx.message.server)\n",
    "        if state.current is None:\n",
    "            await self.bot.say('Not playing anything.')\n",
    "        else:\n",
    "            skip_count = len(state.skip_votes)\n",
    "            await self.bot.say('Now playing {} [skips: {}/3]'.format(state.current, skip_count))\n",
    "            \n",
    "\n",
    "    @commands.command(pass_context=True, no_pm=True)\n",
    "    async def playlist(self , ctx, action:str, *args):\n",
    "        \"\"\"manage your playlist\n",
    "            \u0010 use 'playlist show' to show your playlist\n",
    "            \u0010 use 'playlist play' to play all songs on your playlist (add to queue)\n",
    "            \u0010 use 'playlist clear' to clear all songs on your playlist\n",
    "            \u0010 use 'playlist remove [song numbers]'\n",
    "            \u0010 use 'playlist add <song>' to add song to playlist\n",
    "        \"\"\"\n",
    "        author = ctx.message.author.name\n",
    "        result =  db.playlist.find_one({'_id': author})\n",
    "        if result is None :\n",
    "            # insert into collection\n",
    "            test_playlist = {'_id' : author, 'queue':[]}\n",
    "            db.playlist.insert_one(test_playlist)\n",
    "        if action == 'show' :\n",
    "            # never have a playlist before\n",
    "            if len(result['queue'])== 0:\n",
    "                await bot.say(\"Your playlist is empty.\")\n",
    "            else : # already have playlist\n",
    "                # fetch playlist                \n",
    "                pl = result['queue']\n",
    "                out = 'This is ' + author + \"'s playlist : \\n\"\n",
    "                for song in pl :\n",
    "                    out += str(song['_id']) + \"\\t\" + song['name'] + '\\n'\n",
    "                await bot.say(out)\n",
    "        \n",
    "        elif action   == 'add' :\n",
    "            song_name =  ''\n",
    "            for tok in args:\n",
    "                song_name += tok + \" \"\n",
    "            print(song_name)\n",
    "            song = {'_id': 1+len(result['queue']) ,'name':song_name}\n",
    "            db.playlist.update_one({'_id':author},\n",
    "                                    {'$push':{'queue':song}})   \n",
    "            await bot.say(song['name']+' added to playlist.')\n",
    "            if state.voice is None:\n",
    "                    print('state.voice is None')\n",
    "                    success = await ctx.invoke(self.summon)\n",
    "                    if not success:\n",
    "                        return\n",
    "\n",
    "            try:\n",
    "\n",
    "                player = await state.voice.create_ytdl_player(song_name,\n",
    "                                                              ytdl_options=opts, \n",
    "                                                             after=state.toggle_next)\n",
    "            except Exception as e:\n",
    "                fmt = 'An error occurred while processing this request: ```py\\n{}: {}\\n```'\n",
    "                await self.bot.send_message(ctx.message.channel, \n",
    "                                            fmt.format(type(e).__name__, e))\n",
    "            else:\n",
    "                player.volume = 0.05\n",
    "                entry = VoiceEntry(ctx.message, player)\n",
    "                await self.bot.say('Enqueued ' + str(entry))\n",
    "                await state.songs.put(entry)\n",
    "                    \n",
    "        \n",
    "        elif action == 'remove' :\n",
    "            rm_success = \"successfully removed song number : \"\n",
    "            for song_num in args :\n",
    "                try :\n",
    "                    db.playlist.update_one(\n",
    "                        { '_id': author }, \n",
    "                        { '$pull': { 'queue': { '_id': int(song_num) }}})\n",
    "                    rm_success += song_num + ' '\n",
    "                except ValueError:\n",
    "                    pass\n",
    "            await bot.say(rm_success+\".\")    \n",
    "                \n",
    "        elif action == 'clear' :\n",
    "            db.playlist.update_one({'_id':author},\n",
    "                              {'$set': {'queue': [] } })\n",
    "            \n",
    "        \n",
    "        elif action == 'play' :\n",
    "            for song in result['queue'] :\n",
    "                song_name = song['name']\n",
    "                \n",
    "                state = self.get_voice_state(ctx.message.server)\n",
    "                print('state = ', state)\n",
    "                opts = {\n",
    "                    'default_search': 'auto',\n",
    "                    'quiet': True,\n",
    "                }\n",
    "\n",
    "                if state.voice is None:\n",
    "                    print('state.voice is None')\n",
    "                    success = await ctx.invoke(self.summon)\n",
    "                    if not success:\n",
    "                        return\n",
    "\n",
    "                try:\n",
    "                    \n",
    "                    player = await state.voice.create_ytdl_player(song_name,\n",
    "                                                                  ytdl_options=opts, \n",
    "                                                                 after=state.toggle_next)\n",
    "                except Exception as e:\n",
    "                    fmt = 'An error occurred while processing this request: ```py\\n{}: {}\\n```'\n",
    "                    await self.bot.send_message(ctx.message.channel, \n",
    "                                                fmt.format(type(e).__name__, e))\n",
    "                else:\n",
    "                    player.volume = 0.05\n",
    "                    entry = VoiceEntry(ctx.message, player)\n",
    "                    await self.bot.say('Enqueued ' + str(entry))\n",
    "                    await state.songs.put(entry)"
   ]
  },
  {
   "cell_type": "code",
   "execution_count": null,
   "metadata": {},
   "outputs": [],
   "source": []
  },
  {
   "cell_type": "code",
   "execution_count": 25,
   "metadata": {},
   "outputs": [],
   "source": [
    "bot.add_cog(Music(bot))"
   ]
  },
  {
   "cell_type": "code",
   "execution_count": 26,
   "metadata": {
    "scrolled": true
   },
   "outputs": [
    {
     "ename": "RuntimeError",
     "evalue": "Cannot close a running event loop",
     "output_type": "error",
     "traceback": [
      "\u001b[1;31m---------------------------------------------------------------------------\u001b[0m",
      "\u001b[1;31mRuntimeError\u001b[0m                              Traceback (most recent call last)",
      "\u001b[1;32mc:\\users\\test\\appdata\\local\\programs\\python\\python36-32\\lib\\site-packages\\discord\\client.py\u001b[0m in \u001b[0;36mrun\u001b[1;34m(self, *args, **kwargs)\u001b[0m\n\u001b[0;32m    518\u001b[0m         \u001b[1;32mtry\u001b[0m\u001b[1;33m:\u001b[0m\u001b[1;33m\u001b[0m\u001b[0m\n\u001b[1;32m--> 519\u001b[1;33m             \u001b[0mself\u001b[0m\u001b[1;33m.\u001b[0m\u001b[0mloop\u001b[0m\u001b[1;33m.\u001b[0m\u001b[0mrun_until_complete\u001b[0m\u001b[1;33m(\u001b[0m\u001b[0mself\u001b[0m\u001b[1;33m.\u001b[0m\u001b[0mstart\u001b[0m\u001b[1;33m(\u001b[0m\u001b[1;33m*\u001b[0m\u001b[0margs\u001b[0m\u001b[1;33m,\u001b[0m \u001b[1;33m**\u001b[0m\u001b[0mkwargs\u001b[0m\u001b[1;33m)\u001b[0m\u001b[1;33m)\u001b[0m\u001b[1;33m\u001b[0m\u001b[0m\n\u001b[0m\u001b[0;32m    520\u001b[0m         \u001b[1;32mexcept\u001b[0m \u001b[0mKeyboardInterrupt\u001b[0m\u001b[1;33m:\u001b[0m\u001b[1;33m\u001b[0m\u001b[0m\n",
      "\u001b[1;32mc:\\users\\test\\appdata\\local\\programs\\python\\python36-32\\lib\\asyncio\\base_events.py\u001b[0m in \u001b[0;36mrun_until_complete\u001b[1;34m(self, future)\u001b[0m\n\u001b[0;32m    453\u001b[0m         \u001b[1;32mtry\u001b[0m\u001b[1;33m:\u001b[0m\u001b[1;33m\u001b[0m\u001b[0m\n\u001b[1;32m--> 454\u001b[1;33m             \u001b[0mself\u001b[0m\u001b[1;33m.\u001b[0m\u001b[0mrun_forever\u001b[0m\u001b[1;33m(\u001b[0m\u001b[1;33m)\u001b[0m\u001b[1;33m\u001b[0m\u001b[0m\n\u001b[0m\u001b[0;32m    455\u001b[0m         \u001b[1;32mexcept\u001b[0m\u001b[1;33m:\u001b[0m\u001b[1;33m\u001b[0m\u001b[0m\n",
      "\u001b[1;32mc:\\users\\test\\appdata\\local\\programs\\python\\python36-32\\lib\\asyncio\\base_events.py\u001b[0m in \u001b[0;36mrun_forever\u001b[1;34m(self)\u001b[0m\n\u001b[0;32m    407\u001b[0m         \u001b[1;32mif\u001b[0m \u001b[0mself\u001b[0m\u001b[1;33m.\u001b[0m\u001b[0mis_running\u001b[0m\u001b[1;33m(\u001b[0m\u001b[1;33m)\u001b[0m\u001b[1;33m:\u001b[0m\u001b[1;33m\u001b[0m\u001b[0m\n\u001b[1;32m--> 408\u001b[1;33m             \u001b[1;32mraise\u001b[0m \u001b[0mRuntimeError\u001b[0m\u001b[1;33m(\u001b[0m\u001b[1;34m'This event loop is already running'\u001b[0m\u001b[1;33m)\u001b[0m\u001b[1;33m\u001b[0m\u001b[0m\n\u001b[0m\u001b[0;32m    409\u001b[0m         \u001b[1;32mif\u001b[0m \u001b[0mevents\u001b[0m\u001b[1;33m.\u001b[0m\u001b[0m_get_running_loop\u001b[0m\u001b[1;33m(\u001b[0m\u001b[1;33m)\u001b[0m \u001b[1;32mis\u001b[0m \u001b[1;32mnot\u001b[0m \u001b[1;32mNone\u001b[0m\u001b[1;33m:\u001b[0m\u001b[1;33m\u001b[0m\u001b[0m\n",
      "\u001b[1;31mRuntimeError\u001b[0m: This event loop is already running",
      "\nDuring handling of the above exception, another exception occurred:\n",
      "\u001b[1;31mRuntimeError\u001b[0m                              Traceback (most recent call last)",
      "\u001b[1;32m<ipython-input-26-74036dc8f2fc>\u001b[0m in \u001b[0;36m<module>\u001b[1;34m()\u001b[0m\n\u001b[1;32m----> 1\u001b[1;33m \u001b[0mbot\u001b[0m\u001b[1;33m.\u001b[0m\u001b[0mrun\u001b[0m\u001b[1;33m(\u001b[0m\u001b[0mCLIENT_TOKEN\u001b[0m\u001b[1;33m)\u001b[0m\u001b[1;33m\u001b[0m\u001b[0m\n\u001b[0m",
      "\u001b[1;32mc:\\users\\test\\appdata\\local\\programs\\python\\python36-32\\lib\\site-packages\\discord\\client.py\u001b[0m in \u001b[0;36mrun\u001b[1;34m(self, *args, **kwargs)\u001b[0m\n\u001b[0;32m    532\u001b[0m                 \u001b[1;32mpass\u001b[0m\u001b[1;33m\u001b[0m\u001b[0m\n\u001b[0;32m    533\u001b[0m         \u001b[1;32mfinally\u001b[0m\u001b[1;33m:\u001b[0m\u001b[1;33m\u001b[0m\u001b[0m\n\u001b[1;32m--> 534\u001b[1;33m             \u001b[0mself\u001b[0m\u001b[1;33m.\u001b[0m\u001b[0mloop\u001b[0m\u001b[1;33m.\u001b[0m\u001b[0mclose\u001b[0m\u001b[1;33m(\u001b[0m\u001b[1;33m)\u001b[0m\u001b[1;33m\u001b[0m\u001b[0m\n\u001b[0m\u001b[0;32m    535\u001b[0m \u001b[1;33m\u001b[0m\u001b[0m\n\u001b[0;32m    536\u001b[0m         \u001b[1;31m# properties\u001b[0m\u001b[1;33m\u001b[0m\u001b[1;33m\u001b[0m\u001b[0m\n",
      "\u001b[1;32mc:\\users\\test\\appdata\\local\\programs\\python\\python36-32\\lib\\asyncio\\selector_events.py\u001b[0m in \u001b[0;36mclose\u001b[1;34m(self)\u001b[0m\n\u001b[0;32m    105\u001b[0m     \u001b[1;32mdef\u001b[0m \u001b[0mclose\u001b[0m\u001b[1;33m(\u001b[0m\u001b[0mself\u001b[0m\u001b[1;33m)\u001b[0m\u001b[1;33m:\u001b[0m\u001b[1;33m\u001b[0m\u001b[0m\n\u001b[0;32m    106\u001b[0m         \u001b[1;32mif\u001b[0m \u001b[0mself\u001b[0m\u001b[1;33m.\u001b[0m\u001b[0mis_running\u001b[0m\u001b[1;33m(\u001b[0m\u001b[1;33m)\u001b[0m\u001b[1;33m:\u001b[0m\u001b[1;33m\u001b[0m\u001b[0m\n\u001b[1;32m--> 107\u001b[1;33m             \u001b[1;32mraise\u001b[0m \u001b[0mRuntimeError\u001b[0m\u001b[1;33m(\u001b[0m\u001b[1;34m\"Cannot close a running event loop\"\u001b[0m\u001b[1;33m)\u001b[0m\u001b[1;33m\u001b[0m\u001b[0m\n\u001b[0m\u001b[0;32m    108\u001b[0m         \u001b[1;32mif\u001b[0m \u001b[0mself\u001b[0m\u001b[1;33m.\u001b[0m\u001b[0mis_closed\u001b[0m\u001b[1;33m(\u001b[0m\u001b[1;33m)\u001b[0m\u001b[1;33m:\u001b[0m\u001b[1;33m\u001b[0m\u001b[0m\n\u001b[0;32m    109\u001b[0m             \u001b[1;32mreturn\u001b[0m\u001b[1;33m\u001b[0m\u001b[0m\n",
      "\u001b[1;31mRuntimeError\u001b[0m: Cannot close a running event loop"
     ]
    },
    {
     "name": "stdout",
     "output_type": "stream",
     "text": [
      "Logged in as\n",
      "waddabot\n",
      "375302183245185034\n",
      "------\n"
     ]
    }
   ],
   "source": [
    "bot.run(CLIENT_TOKEN)"
   ]
  },
  {
   "cell_type": "code",
   "execution_count": null,
   "metadata": {},
   "outputs": [],
   "source": [
    "for chan in bot.get_all_channels() :\n",
    "    print (type(chan))"
   ]
  }
 ],
 "metadata": {
  "kernelspec": {
   "display_name": "Python 3",
   "language": "python",
   "name": "python3"
  },
  "language_info": {
   "codemirror_mode": {
    "name": "ipython",
    "version": 3
   },
   "file_extension": ".py",
   "mimetype": "text/x-python",
   "name": "python",
   "nbconvert_exporter": "python",
   "pygments_lexer": "ipython3",
   "version": "3.6.1"
  }
 },
 "nbformat": 4,
 "nbformat_minor": 2
}
